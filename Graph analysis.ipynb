{
 "cells": [
  {
   "cell_type": "markdown",
   "id": "6f8a6e85",
   "metadata": {},
   "source": [
    "# Libraries"
   ]
  },
  {
   "cell_type": "code",
   "execution_count": 22,
   "id": "46fafb2c",
   "metadata": {},
   "outputs": [],
   "source": [
    "import pandas as pd\n",
    "import matplotlib.pyplot as plt\n",
    "import networkx as nx"
   ]
  },
  {
   "cell_type": "markdown",
   "id": "0868b050",
   "metadata": {},
   "source": [
    "# Load Data "
   ]
  },
  {
   "cell_type": "code",
   "execution_count": 31,
   "id": "26bfb334",
   "metadata": {},
   "outputs": [],
   "source": [
    "LoanBorrower = pd.read_csv('Filtered/LoanBorrowerRelationship.csv', sep=';')\n",
    "LoanLender = pd.read_csv('Filtered/LoanActions.csv', sep=';')\n",
    "LoanTeam = pd.read_csv('Filtered/LoanTeamRelationship.csv', sep=';')\n",
    "\n",
    "#df = pd.merge(LoanBorrower, LoanTeam, on='loan_id')\n",
    "df = pd.merge(LoanBorrower, LoanLender, on='loan_id')"
   ]
  },
  {
   "cell_type": "markdown",
   "id": "5ff8247e",
   "metadata": {},
   "source": [
    "# Graph"
   ]
  },
  {
   "cell_type": "code",
   "execution_count": 32,
   "id": "a508ca1d",
   "metadata": {},
   "outputs": [
    {
     "data": {
      "text/plain": [
       "'Graph with 12918 nodes and 45653 edges'"
      ]
     },
     "execution_count": 32,
     "metadata": {},
     "output_type": "execute_result"
    }
   ],
   "source": [
    "#G = nx.from_pandas_edgelist(df, 'borrower_id', 'team_id')\n",
    "G = nx.from_pandas_edgelist(df, 'borrower_id', 'lender_id')\n",
    "nx.info(G)"
   ]
  },
  {
   "cell_type": "markdown",
   "id": "b76af926",
   "metadata": {},
   "source": [
    "# Largest connected component"
   ]
  },
  {
   "cell_type": "code",
   "execution_count": 33,
   "id": "47636c7e",
   "metadata": {},
   "outputs": [],
   "source": [
    "Gcc = sorted(nx.connected_components(G), key=len, reverse=True)\n",
    "G0 = G.subgraph(Gcc[0])"
   ]
  },
  {
   "cell_type": "markdown",
   "id": "fcb1d350",
   "metadata": {},
   "source": [
    "# Graph statistics"
   ]
  },
  {
   "cell_type": "code",
   "execution_count": 34,
   "id": "6a294b03",
   "metadata": {},
   "outputs": [
    {
     "data": {
      "text/plain": [
       "'Graph with 12738 nodes and 45507 edges'"
      ]
     },
     "execution_count": 34,
     "metadata": {},
     "output_type": "execute_result"
    }
   ],
   "source": [
    "nx.info(G0)"
   ]
  },
  {
   "cell_type": "code",
   "execution_count": 35,
   "id": "c5e46f92",
   "metadata": {},
   "outputs": [
    {
     "data": {
      "text/plain": [
       "True"
      ]
     },
     "execution_count": 35,
     "metadata": {},
     "output_type": "execute_result"
    }
   ],
   "source": [
    "nx.is_connected(G0)"
   ]
  },
  {
   "cell_type": "code",
   "execution_count": 36,
   "id": "e232b0dc",
   "metadata": {},
   "outputs": [
    {
     "data": {
      "text/plain": [
       "0.0005609702222036001"
      ]
     },
     "execution_count": 36,
     "metadata": {},
     "output_type": "execute_result"
    }
   ],
   "source": [
    "nx.density(G0)"
   ]
  },
  {
   "cell_type": "code",
   "execution_count": 39,
   "id": "ca228267",
   "metadata": {},
   "outputs": [
    {
     "data": {
      "text/plain": [
       "0"
      ]
     },
     "execution_count": 39,
     "metadata": {},
     "output_type": "execute_result"
    }
   ],
   "source": [
    "nx.transitivity(G0)"
   ]
  },
  {
   "cell_type": "code",
   "execution_count": 37,
   "id": "c39fecaf",
   "metadata": {},
   "outputs": [
    {
     "data": {
      "image/png": "[encoded data removed]",
      "text/plain": [
       "<Figure size 432x288 with 1 Axes>"
      ]
     },
     "metadata": {
      "needs_background": "light"
     },
     "output_type": "display_data"
    }
   ],
   "source": [
    "def plot_degree_dist(G):\n",
    "    degrees = [G.degree(n) for n in G.nodes()]\n",
    "    plt.hist(degrees, bins = 1000)\n",
    "    plt.xlim(0, 200)\n",
    "    plt.ylim(0, 300)\n",
    "    plt.show()\n",
    "\n",
    "plot_degree_dist(G0)"
   ]
  },
  {
   "cell_type": "code",
   "execution_count": null,
   "id": "cd5b4462",
   "metadata": {},
   "outputs": [],
   "source": [
    "#https://programminghistorian.org/en/lessons/exploring-and-analyzing-network-data-with-python"
   ]
  },
  {
   "cell_type": "markdown",
   "id": "d317d02e",
   "metadata": {},
   "source": [
    "# Gephi output"
   ]
  },
  {
   "cell_type": "code",
   "execution_count": null,
   "id": "be72cc2a",
   "metadata": {},
   "outputs": [],
   "source": [
    "nx.write_gexf(G0, \"test.gexf\")"
   ]
  }
 ],
 "metadata": {
  "kernelspec": {
   "display_name": "Python 3",
   "language": "python",
   "name": "python3"
  },
  "language_info": {
   "codemirror_mode": {
    "name": "ipython",
    "version": 3
   },
   "file_extension": ".py",
   "mimetype": "text/x-python",
   "name": "python",
   "nbconvert_exporter": "python",
   "pygments_lexer": "ipython3",
   "version": "3.8.8"
  }
 },
 "nbformat": 4,
 "nbformat_minor": 5
}
