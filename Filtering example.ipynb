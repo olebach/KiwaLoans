{
 "cells": [
  {
   "cell_type": "markdown",
   "id": "40dceb62",
   "metadata": {},
   "source": [
    "### Libraries"
   ]
  },
  {
   "cell_type": "code",
   "execution_count": 1,
   "id": "625c14ec",
   "metadata": {},
   "outputs": [],
   "source": [
    "import pandas as pd"
   ]
  },
  {
   "cell_type": "markdown",
   "id": "579d535d",
   "metadata": {},
   "source": [
    "# 1. Loans dataset"
   ]
  },
  {
   "cell_type": "code",
   "execution_count": 2,
   "id": "b1422b0a",
   "metadata": {},
   "outputs": [],
   "source": [
    "# Load data\n",
    "loan_df = pd.read_csv('Data/Loans.csv', sep=';', low_memory=False)"
   ]
  },
  {
   "cell_type": "code",
   "execution_count": 17,
   "id": "1765c68a",
   "metadata": {},
   "outputs": [
    {
     "data": {
      "text/html": [
       "<div>\n",
       "<style scoped>\n",
       "    .dataframe tbody tr th:only-of-type {\n",
       "        vertical-align: middle;\n",
       "    }\n",
       "\n",
       "    .dataframe tbody tr th {\n",
       "        vertical-align: top;\n",
       "    }\n",
       "\n",
       "    .dataframe thead th {\n",
       "        text-align: right;\n",
       "    }\n",
       "</style>\n",
       "<table border=\"1\" class=\"dataframe\">\n",
       "  <thead>\n",
       "    <tr style=\"text-align: right;\">\n",
       "      <th></th>\n",
       "      <th>activity_id</th>\n",
       "      <th>activity_name</th>\n",
       "      <th>sector_name</th>\n",
       "      <th>counts</th>\n",
       "    </tr>\n",
       "  </thead>\n",
       "  <tbody>\n",
       "    <tr>\n",
       "      <th>17</th>\n",
       "      <td>31</td>\n",
       "      <td>Farming</td>\n",
       "      <td>Agriculture</td>\n",
       "      <td>22066</td>\n",
       "    </tr>\n",
       "    <tr>\n",
       "      <th>35</th>\n",
       "      <td>57</td>\n",
       "      <td>General Store</td>\n",
       "      <td>Retail</td>\n",
       "      <td>18408</td>\n",
       "    </tr>\n",
       "    <tr>\n",
       "      <th>97</th>\n",
       "      <td>134</td>\n",
       "      <td>Personal Housing Expenses</td>\n",
       "      <td>Housing</td>\n",
       "      <td>9734</td>\n",
       "    </tr>\n",
       "    <tr>\n",
       "      <th>58</th>\n",
       "      <td>88</td>\n",
       "      <td>Retail</td>\n",
       "      <td>Retail</td>\n",
       "      <td>9329</td>\n",
       "    </tr>\n",
       "    <tr>\n",
       "      <th>43</th>\n",
       "      <td>67</td>\n",
       "      <td>Food Production/Sales</td>\n",
       "      <td>Food</td>\n",
       "      <td>9125</td>\n",
       "    </tr>\n",
       "    <tr>\n",
       "      <th>0</th>\n",
       "      <td>9</td>\n",
       "      <td>Clothing Sales</td>\n",
       "      <td>Clothing</td>\n",
       "      <td>8003</td>\n",
       "    </tr>\n",
       "    <tr>\n",
       "      <th>67</th>\n",
       "      <td>99</td>\n",
       "      <td>Pigs</td>\n",
       "      <td>Agriculture</td>\n",
       "      <td>7572</td>\n",
       "    </tr>\n",
       "    <tr>\n",
       "      <th>85</th>\n",
       "      <td>120</td>\n",
       "      <td>Agriculture</td>\n",
       "      <td>Agriculture</td>\n",
       "      <td>7433</td>\n",
       "    </tr>\n",
       "    <tr>\n",
       "      <th>5</th>\n",
       "      <td>15</td>\n",
       "      <td>Grocery Store</td>\n",
       "      <td>Food</td>\n",
       "      <td>5646</td>\n",
       "    </tr>\n",
       "    <tr>\n",
       "      <th>121</th>\n",
       "      <td>169</td>\n",
       "      <td>Fruits &amp; Vegetables</td>\n",
       "      <td>Food</td>\n",
       "      <td>5029</td>\n",
       "    </tr>\n",
       "    <tr>\n",
       "      <th>40</th>\n",
       "      <td>63</td>\n",
       "      <td>Fish Selling</td>\n",
       "      <td>Food</td>\n",
       "      <td>4110</td>\n",
       "    </tr>\n",
       "    <tr>\n",
       "      <th>142</th>\n",
       "      <td>200</td>\n",
       "      <td>Higher education costs</td>\n",
       "      <td>Education</td>\n",
       "      <td>3973</td>\n",
       "    </tr>\n",
       "    <tr>\n",
       "      <th>47</th>\n",
       "      <td>73</td>\n",
       "      <td>Livestock</td>\n",
       "      <td>Agriculture</td>\n",
       "      <td>3528</td>\n",
       "    </tr>\n",
       "    <tr>\n",
       "      <th>57</th>\n",
       "      <td>87</td>\n",
       "      <td>Food Market</td>\n",
       "      <td>Food</td>\n",
       "      <td>3433</td>\n",
       "    </tr>\n",
       "    <tr>\n",
       "      <th>138</th>\n",
       "      <td>195</td>\n",
       "      <td>Home Appliances</td>\n",
       "      <td>Personal Use</td>\n",
       "      <td>3366</td>\n",
       "    </tr>\n",
       "    <tr>\n",
       "      <th>130</th>\n",
       "      <td>181</td>\n",
       "      <td>Food</td>\n",
       "      <td>Food</td>\n",
       "      <td>2995</td>\n",
       "    </tr>\n",
       "    <tr>\n",
       "      <th>34</th>\n",
       "      <td>56</td>\n",
       "      <td>Cattle</td>\n",
       "      <td>Agriculture</td>\n",
       "      <td>2985</td>\n",
       "    </tr>\n",
       "    <tr>\n",
       "      <th>18</th>\n",
       "      <td>32</td>\n",
       "      <td>Tailoring</td>\n",
       "      <td>Services</td>\n",
       "      <td>2825</td>\n",
       "    </tr>\n",
       "    <tr>\n",
       "      <th>70</th>\n",
       "      <td>102</td>\n",
       "      <td>Poultry</td>\n",
       "      <td>Agriculture</td>\n",
       "      <td>2753</td>\n",
       "    </tr>\n",
       "    <tr>\n",
       "      <th>79</th>\n",
       "      <td>112</td>\n",
       "      <td>Cereals</td>\n",
       "      <td>Food</td>\n",
       "      <td>2659</td>\n",
       "    </tr>\n",
       "    <tr>\n",
       "      <th>77</th>\n",
       "      <td>110</td>\n",
       "      <td>Animal Sales</td>\n",
       "      <td>Agriculture</td>\n",
       "      <td>2578</td>\n",
       "    </tr>\n",
       "    <tr>\n",
       "      <th>133</th>\n",
       "      <td>185</td>\n",
       "      <td>Food Stall</td>\n",
       "      <td>Food</td>\n",
       "      <td>2554</td>\n",
       "    </tr>\n",
       "    <tr>\n",
       "      <th>38</th>\n",
       "      <td>61</td>\n",
       "      <td>Dairy</td>\n",
       "      <td>Agriculture</td>\n",
       "      <td>2531</td>\n",
       "    </tr>\n",
       "    <tr>\n",
       "      <th>59</th>\n",
       "      <td>89</td>\n",
       "      <td>Fishing</td>\n",
       "      <td>Food</td>\n",
       "      <td>2444</td>\n",
       "    </tr>\n",
       "    <tr>\n",
       "      <th>29</th>\n",
       "      <td>47</td>\n",
       "      <td>Sewing</td>\n",
       "      <td>Services</td>\n",
       "      <td>2396</td>\n",
       "    </tr>\n",
       "    <tr>\n",
       "      <th>86</th>\n",
       "      <td>121</td>\n",
       "      <td>Services</td>\n",
       "      <td>Services</td>\n",
       "      <td>2364</td>\n",
       "    </tr>\n",
       "    <tr>\n",
       "      <th>30</th>\n",
       "      <td>49</td>\n",
       "      <td>Beauty Salon</td>\n",
       "      <td>Services</td>\n",
       "      <td>2217</td>\n",
       "    </tr>\n",
       "    <tr>\n",
       "      <th>22</th>\n",
       "      <td>37</td>\n",
       "      <td>Motorcycle Transport</td>\n",
       "      <td>Transportation</td>\n",
       "      <td>2037</td>\n",
       "    </tr>\n",
       "    <tr>\n",
       "      <th>145</th>\n",
       "      <td>203</td>\n",
       "      <td>Home Energy</td>\n",
       "      <td>Personal Use</td>\n",
       "      <td>2030</td>\n",
       "    </tr>\n",
       "    <tr>\n",
       "      <th>113</th>\n",
       "      <td>158</td>\n",
       "      <td>Primary/secondary school costs</td>\n",
       "      <td>Education</td>\n",
       "      <td>1976</td>\n",
       "    </tr>\n",
       "    <tr>\n",
       "      <th>135</th>\n",
       "      <td>192</td>\n",
       "      <td>Personal Medical Expenses</td>\n",
       "      <td>Health</td>\n",
       "      <td>1743</td>\n",
       "    </tr>\n",
       "    <tr>\n",
       "      <th>28</th>\n",
       "      <td>46</td>\n",
       "      <td>Restaurant</td>\n",
       "      <td>Food</td>\n",
       "      <td>1665</td>\n",
       "    </tr>\n",
       "    <tr>\n",
       "      <th>54</th>\n",
       "      <td>84</td>\n",
       "      <td>Used Clothing</td>\n",
       "      <td>Clothing</td>\n",
       "      <td>1643</td>\n",
       "    </tr>\n",
       "    <tr>\n",
       "      <th>8</th>\n",
       "      <td>19</td>\n",
       "      <td>Cosmetics Sales</td>\n",
       "      <td>Retail</td>\n",
       "      <td>1616</td>\n",
       "    </tr>\n",
       "    <tr>\n",
       "      <th>37</th>\n",
       "      <td>60</td>\n",
       "      <td>Charcoal Sales</td>\n",
       "      <td>Retail</td>\n",
       "      <td>1586</td>\n",
       "    </tr>\n",
       "    <tr>\n",
       "      <th>160</th>\n",
       "      <td>224</td>\n",
       "      <td>Personal Expenses</td>\n",
       "      <td>Personal Use</td>\n",
       "      <td>1463</td>\n",
       "    </tr>\n",
       "    <tr>\n",
       "      <th>16</th>\n",
       "      <td>29</td>\n",
       "      <td>Home Products Sales</td>\n",
       "      <td>Retail</td>\n",
       "      <td>1454</td>\n",
       "    </tr>\n",
       "    <tr>\n",
       "      <th>46</th>\n",
       "      <td>72</td>\n",
       "      <td>Crafts</td>\n",
       "      <td>Arts</td>\n",
       "      <td>1321</td>\n",
       "    </tr>\n",
       "    <tr>\n",
       "      <th>14</th>\n",
       "      <td>27</td>\n",
       "      <td>Bakery</td>\n",
       "      <td>Food</td>\n",
       "      <td>1286</td>\n",
       "    </tr>\n",
       "    <tr>\n",
       "      <th>156</th>\n",
       "      <td>220</td>\n",
       "      <td>Beverages</td>\n",
       "      <td>Food</td>\n",
       "      <td>1185</td>\n",
       "    </tr>\n",
       "    <tr>\n",
       "      <th>74</th>\n",
       "      <td>107</td>\n",
       "      <td>Transportation</td>\n",
       "      <td>Transportation</td>\n",
       "      <td>1180</td>\n",
       "    </tr>\n",
       "    <tr>\n",
       "      <th>131</th>\n",
       "      <td>183</td>\n",
       "      <td>Clothing</td>\n",
       "      <td>Clothing</td>\n",
       "      <td>1145</td>\n",
       "    </tr>\n",
       "    <tr>\n",
       "      <th>106</th>\n",
       "      <td>145</td>\n",
       "      <td>Weaving</td>\n",
       "      <td>Arts</td>\n",
       "      <td>1100</td>\n",
       "    </tr>\n",
       "    <tr>\n",
       "      <th>10</th>\n",
       "      <td>23</td>\n",
       "      <td>Shoe Sales</td>\n",
       "      <td>Retail</td>\n",
       "      <td>1070</td>\n",
       "    </tr>\n",
       "    <tr>\n",
       "      <th>36</th>\n",
       "      <td>59</td>\n",
       "      <td>Taxi</td>\n",
       "      <td>Transportation</td>\n",
       "      <td>1035</td>\n",
       "    </tr>\n",
       "    <tr>\n",
       "      <th>44</th>\n",
       "      <td>68</td>\n",
       "      <td>Farm Supplies</td>\n",
       "      <td>Agriculture</td>\n",
       "      <td>1021</td>\n",
       "    </tr>\n",
       "    <tr>\n",
       "      <th>103</th>\n",
       "      <td>142</td>\n",
       "      <td>Personal Products Sales</td>\n",
       "      <td>Retail</td>\n",
       "      <td>1007</td>\n",
       "    </tr>\n",
       "    <tr>\n",
       "      <th>127</th>\n",
       "      <td>176</td>\n",
       "      <td>Education provider</td>\n",
       "      <td>Education</td>\n",
       "      <td>860</td>\n",
       "    </tr>\n",
       "    <tr>\n",
       "      <th>23</th>\n",
       "      <td>39</td>\n",
       "      <td>Construction</td>\n",
       "      <td>Construction</td>\n",
       "      <td>808</td>\n",
       "    </tr>\n",
       "    <tr>\n",
       "      <th>109</th>\n",
       "      <td>149</td>\n",
       "      <td>Embroidery</td>\n",
       "      <td>Arts</td>\n",
       "      <td>804</td>\n",
       "    </tr>\n",
       "  </tbody>\n",
       "</table>\n",
       "</div>"
      ],
      "text/plain": [
       "     activity_id                   activity_name     sector_name  counts\n",
       "17            31                         Farming     Agriculture   22066\n",
       "35            57                   General Store          Retail   18408\n",
       "97           134       Personal Housing Expenses         Housing    9734\n",
       "58            88                          Retail          Retail    9329\n",
       "43            67           Food Production/Sales            Food    9125\n",
       "0              9                  Clothing Sales        Clothing    8003\n",
       "67            99                            Pigs     Agriculture    7572\n",
       "85           120                     Agriculture     Agriculture    7433\n",
       "5             15                   Grocery Store            Food    5646\n",
       "121          169             Fruits & Vegetables            Food    5029\n",
       "40            63                    Fish Selling            Food    4110\n",
       "142          200          Higher education costs       Education    3973\n",
       "47            73                       Livestock     Agriculture    3528\n",
       "57            87                     Food Market            Food    3433\n",
       "138          195                 Home Appliances    Personal Use    3366\n",
       "130          181                            Food            Food    2995\n",
       "34            56                          Cattle     Agriculture    2985\n",
       "18            32                       Tailoring        Services    2825\n",
       "70           102                         Poultry     Agriculture    2753\n",
       "79           112                         Cereals            Food    2659\n",
       "77           110                    Animal Sales     Agriculture    2578\n",
       "133          185                      Food Stall            Food    2554\n",
       "38            61                           Dairy     Agriculture    2531\n",
       "59            89                         Fishing            Food    2444\n",
       "29            47                          Sewing        Services    2396\n",
       "86           121                        Services        Services    2364\n",
       "30            49                    Beauty Salon        Services    2217\n",
       "22            37            Motorcycle Transport  Transportation    2037\n",
       "145          203                     Home Energy    Personal Use    2030\n",
       "113          158  Primary/secondary school costs       Education    1976\n",
       "135          192       Personal Medical Expenses          Health    1743\n",
       "28            46                      Restaurant            Food    1665\n",
       "54            84                   Used Clothing        Clothing    1643\n",
       "8             19                 Cosmetics Sales          Retail    1616\n",
       "37            60                  Charcoal Sales          Retail    1586\n",
       "160          224               Personal Expenses    Personal Use    1463\n",
       "16            29             Home Products Sales          Retail    1454\n",
       "46            72                          Crafts            Arts    1321\n",
       "14            27                          Bakery            Food    1286\n",
       "156          220                       Beverages            Food    1185\n",
       "74           107                  Transportation  Transportation    1180\n",
       "131          183                        Clothing        Clothing    1145\n",
       "106          145                         Weaving            Arts    1100\n",
       "10            23                      Shoe Sales          Retail    1070\n",
       "36            59                            Taxi  Transportation    1035\n",
       "44            68                   Farm Supplies     Agriculture    1021\n",
       "103          142         Personal Products Sales          Retail    1007\n",
       "127          176              Education provider       Education     860\n",
       "23            39                    Construction    Construction     808\n",
       "109          149                      Embroidery            Arts     804"
      ]
     },
     "execution_count": 17,
     "metadata": {},
     "output_type": "execute_result"
    }
   ],
   "source": [
    "# Summary of data\n",
    "summary_stat = loan_df.groupby(['activity_id','activity_name', 'sector_name']).size().reset_index(name='counts')\n",
    "summary_stat.sort_values(by=['counts'], ascending=False).head(50)"
   ]
  },
  {
   "cell_type": "code",
   "execution_count": 30,
   "id": "43de1ee4",
   "metadata": {},
   "outputs": [],
   "source": [
    "# Filter loan data\n",
    "loan_df_filter = loan_df.loc[loan_df.activity_id == 142]"
   ]
  },
  {
   "cell_type": "code",
   "execution_count": 31,
   "id": "f1437382",
   "metadata": {},
   "outputs": [],
   "source": [
    "# loan id list for relationship tables\n",
    "loan_id_list = list(loan_df_filter.loan_id.unique())\n",
    "\n",
    "# Geocode lat/lon list for geocode table\n",
    "geocode_latitude_list = list(loan_df_filter.geocode_latitude.unique())\n",
    "geocode_longitude_list = list(loan_df_filter.geocode_longitude.unique())\n",
    "\n",
    "# Activity id list for relationship tables\n",
    "activity_id_list = list(loan_df_filter.activity_id.unique())\n",
    "\n",
    "# Sector id list for relationship tables\n",
    "sector_id_list = list(loan_df_filter.sector_id.unique())"
   ]
  },
  {
   "cell_type": "code",
   "execution_count": 32,
   "id": "c97149d1",
   "metadata": {},
   "outputs": [
    {
     "name": "stdout",
     "output_type": "stream",
     "text": [
      "204045\n",
      "1007\n"
     ]
    }
   ],
   "source": [
    "print(len(loan_df))\n",
    "print(len(loan_df_filter))"
   ]
  },
  {
   "cell_type": "markdown",
   "id": "1a041bd1",
   "metadata": {},
   "source": [
    "# 2. Terms dataset"
   ]
  },
  {
   "cell_type": "code",
   "execution_count": 33,
   "id": "b45d9b81",
   "metadata": {},
   "outputs": [],
   "source": [
    "# Load data\n",
    "term_df = pd.read_csv('Data/Terms.csv', sep=';')\n",
    "# Filter lender data\n",
    "term_df_filter = term_df[term_df['loan_id'].isin(loan_id_list)]"
   ]
  },
  {
   "cell_type": "code",
   "execution_count": 34,
   "id": "283b1969",
   "metadata": {},
   "outputs": [
    {
     "name": "stdout",
     "output_type": "stream",
     "text": [
      "204045\n",
      "1007\n"
     ]
    }
   ],
   "source": [
    "print(len(term_df))\n",
    "print(len(term_df_filter))"
   ]
  },
  {
   "cell_type": "markdown",
   "id": "eee4bd08",
   "metadata": {},
   "source": [
    "# 3. Repayments dataset"
   ]
  },
  {
   "cell_type": "code",
   "execution_count": 35,
   "id": "492ac633",
   "metadata": {},
   "outputs": [],
   "source": [
    "# Load data\n",
    "repayment_df = pd.read_csv('Data/Repayments.csv', sep=';')\n",
    "# Filter lender data\n",
    "repayment_df_filter = repayment_df[repayment_df['loan_id'].isin(loan_id_list)]"
   ]
  },
  {
   "cell_type": "code",
   "execution_count": 36,
   "id": "36e84d16",
   "metadata": {},
   "outputs": [
    {
     "name": "stdout",
     "output_type": "stream",
     "text": [
      "11744\n",
      "0\n"
     ]
    }
   ],
   "source": [
    "print(len(repayment_df))\n",
    "print(len(repayment_df_filter))"
   ]
  },
  {
   "cell_type": "markdown",
   "id": "e296bc52",
   "metadata": {},
   "source": [
    "# 4. Borrower dataset"
   ]
  },
  {
   "cell_type": "code",
   "execution_count": 37,
   "id": "1d9e08b2",
   "metadata": {},
   "outputs": [],
   "source": [
    "# Load data\n",
    "LoanBorrowerRelationship_df = pd.read_csv('Data/LoanBorrowerRelationship.csv', sep=';')\n",
    "borrower_df = pd.read_csv('Data/Borrowers.csv', sep=';')\n",
    "# Filter borrower relationships data\n",
    "LoanBorrowerRelationship_df_filter = LoanBorrowerRelationship_df[LoanBorrowerRelationship_df['loan_id'].isin(loan_id_list)]\n",
    "# borrower id list for relationship tables\n",
    "borrower_id_list = list(LoanBorrowerRelationship_df_filter.borrower_id.unique())\n",
    "# Filter borrower data\n",
    "borrower_df_filter = borrower_df[borrower_df['borrower_id'].isin(borrower_id_list)]"
   ]
  },
  {
   "cell_type": "code",
   "execution_count": 38,
   "id": "3f5afd41",
   "metadata": {},
   "outputs": [
    {
     "name": "stdout",
     "output_type": "stream",
     "text": [
      "390284\n",
      "1410\n"
     ]
    }
   ],
   "source": [
    "print(len(borrower_df))\n",
    "print(len(borrower_df_filter))"
   ]
  },
  {
   "cell_type": "code",
   "execution_count": 39,
   "id": "b446b4ba",
   "metadata": {},
   "outputs": [
    {
     "name": "stdout",
     "output_type": "stream",
     "text": [
      "394619\n",
      "1431\n"
     ]
    }
   ],
   "source": [
    "print(len(LoanBorrowerRelationship_df))\n",
    "print(len(LoanBorrowerRelationship_df_filter))"
   ]
  },
  {
   "cell_type": "markdown",
   "id": "1a7cfbcc",
   "metadata": {},
   "source": [
    "# 5. Loan actions"
   ]
  },
  {
   "cell_type": "code",
   "execution_count": 40,
   "id": "60961d58",
   "metadata": {},
   "outputs": [],
   "source": [
    "# Load data\n",
    "action_df = pd.read_csv('Data/LoanActions.csv', sep=';')\n",
    "# Filter loan actions data\n",
    "action_df_filter = action_df[action_df['loan_id'].isin(loan_id_list)]\n",
    "# lender id list for relationship tables\n",
    "lender_id_list = list(action_df_filter.lender_id.unique())"
   ]
  },
  {
   "cell_type": "code",
   "execution_count": 41,
   "id": "b18787f6",
   "metadata": {},
   "outputs": [
    {
     "name": "stdout",
     "output_type": "stream",
     "text": [
      "4134372\n",
      "16226\n"
     ]
    }
   ],
   "source": [
    "print(len(action_df))\n",
    "print(len(action_df_filter))"
   ]
  },
  {
   "cell_type": "markdown",
   "id": "4cb11d61",
   "metadata": {},
   "source": [
    "# 6. Lender dataset"
   ]
  },
  {
   "cell_type": "code",
   "execution_count": 42,
   "id": "9528ba05",
   "metadata": {},
   "outputs": [],
   "source": [
    "# Load data\n",
    "lender_df = pd.read_csv('Data/Lenders.csv', sep=';')\n",
    "# Filter lender data\n",
    "lender_df_filter = lender_df[lender_df['lender_id'].isin(lender_id_list)]"
   ]
  },
  {
   "cell_type": "code",
   "execution_count": 43,
   "id": "3e5e693f",
   "metadata": {},
   "outputs": [
    {
     "name": "stdout",
     "output_type": "stream",
     "text": [
      "752085\n",
      "11480\n"
     ]
    }
   ],
   "source": [
    "print(len(lender_df))\n",
    "print(len(lender_df_filter))"
   ]
  },
  {
   "cell_type": "markdown",
   "id": "f58a3824",
   "metadata": {},
   "source": [
    "# 7. Team dataset"
   ]
  },
  {
   "cell_type": "code",
   "execution_count": 44,
   "id": "d12db0b8",
   "metadata": {},
   "outputs": [],
   "source": [
    "# Load data\n",
    "LenderTeamRelationship_df = pd.read_csv('Data/LenderTeamRelationship.csv', sep=';')\n",
    "LoanTeamRelationship_df = pd.read_csv('Data/LoanTeamRelationship.csv', sep=';')\n",
    "team_df = pd.read_csv('Data/Teams.csv', sep=';')\n",
    "\n",
    "# Filter team relationships data\n",
    "LoanTeamRelationship_df_filter = LoanTeamRelationship_df[LoanTeamRelationship_df['loan_id'].isin(loan_id_list)]\n",
    "\n",
    "# Team id list for relationship tables\n",
    "team_id_list = list(LoanTeamRelationship_df_filter.team_id.unique())\n",
    "\n",
    "# Filter team data\n",
    "team_df_filter = team_df[team_df['team_id'].isin(team_id_list)]\n",
    "\n",
    "# Filter relationship data\n",
    "LenderTeamRelationship_df_filter = LenderTeamRelationship_df[ (LenderTeamRelationship_df['lender_id'].isin(lender_id_list)) & (LenderTeamRelationship_df['team_id'].isin(team_id_list))]\n"
   ]
  },
  {
   "cell_type": "code",
   "execution_count": 45,
   "id": "0f1e2416",
   "metadata": {},
   "outputs": [
    {
     "name": "stdout",
     "output_type": "stream",
     "text": [
      "25710\n",
      "1799\n"
     ]
    }
   ],
   "source": [
    "print(len(team_df))\n",
    "print(len(team_df_filter))"
   ]
  },
  {
   "cell_type": "code",
   "execution_count": 46,
   "id": "c5fe9a51",
   "metadata": {},
   "outputs": [
    {
     "name": "stdout",
     "output_type": "stream",
     "text": [
      "1695065\n",
      "7541\n"
     ]
    }
   ],
   "source": [
    "print(len(LoanTeamRelationship_df))\n",
    "print(len(LoanTeamRelationship_df_filter))"
   ]
  },
  {
   "cell_type": "code",
   "execution_count": 47,
   "id": "acad0a45",
   "metadata": {},
   "outputs": [
    {
     "name": "stdout",
     "output_type": "stream",
     "text": [
      "7594131\n",
      "3008479\n"
     ]
    }
   ],
   "source": [
    "print(len(LenderTeamRelationship_df))\n",
    "print(len(LenderTeamRelationship_df_filter))"
   ]
  },
  {
   "cell_type": "markdown",
   "id": "e6ef19eb",
   "metadata": {},
   "source": [
    "# 8. Geocode dataset"
   ]
  },
  {
   "cell_type": "code",
   "execution_count": 48,
   "id": "2668bae2",
   "metadata": {},
   "outputs": [],
   "source": [
    "# Load data\n",
    "geocode_df = pd.read_csv('Data/Geocodes.csv', sep=';')\n",
    "# Filter geocode data\n",
    "geocode_df_filter = geocode_df[ (geocode_df['geocode_latitude'].isin(geocode_latitude_list)) & (geocode_df['geocode_longitude'].isin(geocode_longitude_list))]"
   ]
  },
  {
   "cell_type": "code",
   "execution_count": 49,
   "id": "e2cd3f8f",
   "metadata": {},
   "outputs": [
    {
     "name": "stdout",
     "output_type": "stream",
     "text": [
      "8147\n",
      "367\n"
     ]
    }
   ],
   "source": [
    "print(len(geocode_df))\n",
    "print(len(geocode_df_filter))"
   ]
  },
  {
   "cell_type": "markdown",
   "id": "5057f996",
   "metadata": {},
   "source": [
    "# 9. Country dataset"
   ]
  },
  {
   "cell_type": "code",
   "execution_count": 50,
   "id": "f86054f4",
   "metadata": {},
   "outputs": [],
   "source": [
    "# Load data\n",
    "country_df = pd.read_csv('Data/Countries.csv', sep=';')\n",
    "# get list of unique isoCodes\n",
    "country_isoCode_list = list(lender_df_filter.country_isoCode.unique())\n",
    "country_isoCode_list.extend(x for x in list(geocode_df_filter.country_isoCode.unique()) if x not in country_isoCode_list)\n",
    "# Filter geocode data\n",
    "country_df_filter = country_df[country_df['country_isoCode'].isin(country_isoCode_list)]"
   ]
  },
  {
   "cell_type": "code",
   "execution_count": 51,
   "id": "daa8655b",
   "metadata": {},
   "outputs": [
    {
     "name": "stdout",
     "output_type": "stream",
     "text": [
      "91\n",
      "60\n"
     ]
    }
   ],
   "source": [
    "print(len(country_df))\n",
    "print(len(country_df_filter))"
   ]
  },
  {
   "cell_type": "markdown",
   "id": "8710509e",
   "metadata": {},
   "source": [
    "# 10. Activity dataset"
   ]
  },
  {
   "cell_type": "code",
   "execution_count": 52,
   "id": "84bb5f32",
   "metadata": {},
   "outputs": [],
   "source": [
    "# Load data\n",
    "activity_df = pd.read_csv('Data/Activities.csv', sep=';')\n",
    "# Filter geocode data\n",
    "activity_df_filter = activity_df[activity_df['activity_id'].isin(activity_id_list)]"
   ]
  },
  {
   "cell_type": "code",
   "execution_count": 53,
   "id": "20ffda84",
   "metadata": {},
   "outputs": [
    {
     "name": "stdout",
     "output_type": "stream",
     "text": [
      "163\n",
      "1\n"
     ]
    }
   ],
   "source": [
    "print(len(activity_df))\n",
    "print(len(activity_df_filter))"
   ]
  },
  {
   "cell_type": "markdown",
   "id": "fe646cc2",
   "metadata": {},
   "source": [
    "# 11. Sector dataset"
   ]
  },
  {
   "cell_type": "code",
   "execution_count": 54,
   "id": "8981844c",
   "metadata": {},
   "outputs": [],
   "source": [
    "# Load data\n",
    "sector_df = pd.read_csv('Data/Sectors.csv', sep=';')\n",
    "# Filter geocode data\n",
    "sector_df_filter = sector_df[sector_df['sector_id'].isin(sector_id_list)]"
   ]
  },
  {
   "cell_type": "code",
   "execution_count": 55,
   "id": "de3a0387",
   "metadata": {},
   "outputs": [
    {
     "name": "stdout",
     "output_type": "stream",
     "text": [
      "15\n",
      "1\n"
     ]
    }
   ],
   "source": [
    "print(len(sector_df))\n",
    "print(len(sector_df_filter))"
   ]
  },
  {
   "cell_type": "markdown",
   "id": "66184217",
   "metadata": {},
   "source": [
    "# Store data"
   ]
  },
  {
   "cell_type": "code",
   "execution_count": 56,
   "id": "5820a85b",
   "metadata": {},
   "outputs": [],
   "source": [
    "loan_df_filter.to_csv('Filtered/Loans.csv', sep=';', index=False)\n",
    "term_df_filter.to_csv('Filtered/Terms.csv', sep=';', index=False)\n",
    "repayment_df_filter.to_csv('Filtered/Repayments.csv', sep=';', index=False)\n",
    "\n",
    "borrower_df_filter.to_csv('Filtered/Borrowers.csv', sep=';', index=False)\n",
    "LoanBorrowerRelationship_df_filter.to_csv('Filtered/LoanBorrowerRelationship.csv', sep=';', index=False)\n",
    "\n",
    "lender_df_filter.to_csv('Filtered/Lenders.csv', sep=';', index=False)\n",
    "action_df_filter.to_csv('Filtered/LoanActions.csv', sep=';', index=False)\n",
    "\n",
    "team_df_filter.to_csv('Filtered/Teams.csv', sep=';', index=False)\n",
    "LenderTeamRelationship_df_filter.to_csv('Filtered/LenderTeamRelationship.csv', sep=';', index=False)\n",
    "LoanTeamRelationship_df_filter.to_csv('Filtered/LoanTeamRelationship.csv', sep=';', index=False)\n",
    "\n",
    "geocode_df_filter.to_csv('Filtered/Geocodes.csv', sep=';', index=False)\n",
    "country_df_filter.to_csv('Filtered/Countries.csv', sep=';', index=False)\n",
    "activity_df_filter.to_csv('Filtered/Activities.csv', sep=';', index=False)\n",
    "sector_df_filter.to_csv('Filtered/Sectors.csv', sep=';', index=False)"
   ]
  },
  {
   "cell_type": "code",
   "execution_count": null,
   "id": "74f4c341",
   "metadata": {},
   "outputs": [],
   "source": []
  },
  {
   "cell_type": "code",
   "execution_count": null,
   "id": "32c43b98",
   "metadata": {},
   "outputs": [],
   "source": []
  },
  {
   "cell_type": "code",
   "execution_count": null,
   "id": "86643bdb",
   "metadata": {},
   "outputs": [],
   "source": []
  }
 ],
 "metadata": {
  "kernelspec": {
   "display_name": "Python 3",
   "language": "python",
   "name": "python3"
  },
  "language_info": {
   "codemirror_mode": {
    "name": "ipython",
    "version": 3
   },
   "file_extension": ".py",
   "mimetype": "text/x-python",
   "name": "python",
   "nbconvert_exporter": "python",
   "pygments_lexer": "ipython3",
   "version": "3.8.8"
  }
 },
 "nbformat": 4,
 "nbformat_minor": 5
}
